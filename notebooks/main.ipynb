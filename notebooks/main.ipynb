{
 "cells": [
  {
   "cell_type": "code",
   "execution_count": 7,
   "metadata": {},
   "outputs": [
    {
     "data": {
      "text/html": [
       "<style>.container { width:100% !important; }</style>"
      ],
      "text/plain": [
       "<IPython.core.display.HTML object>"
      ]
     },
     "metadata": {},
     "output_type": "display_data"
    }
   ],
   "source": [
    "%matplotlib inline  \n",
    "from IPython.core.display import display, HTML\n",
    "display(HTML(\"<style>.container { width:100% !important; }</style>\"))\n",
    "import imp\n",
    "import numpy as np\n",
    "import os\n",
    "import matplotlib.pyplot as plt\n",
    "\n",
    "import keras\n",
    "import keras.backend\n",
    "import keras.models\n",
    "\n",
    "import innvestigate\n",
    "import innvestigate.applications.imagenet\n",
    "import innvestigate.utils as iutils\n",
    "\n",
    "import imp\n",
    "#base_dir = os.path.dirname(__file__)\n",
    "utils = imp.load_source(\"utils\", \"../utils.py\")\n",
    "imgnetutils = imp.load_source(\"utils_imagenet\", \"../utils_imagenet.py\")\n",
    "main = imp.load_source(\"main\", \"../main.py\")\n",
    "METHODS = main.METHODS\n",
    "create_vgg16_model_and_analyzer = main.create_vgg16_model_and_analyzer\n",
    "analyze = main.analyze\n",
    "visualize = main.visualize\n"
   ]
  },
  {
   "cell_type": "code",
   "execution_count": 2,
   "metadata": {},
   "outputs": [
    {
     "name": "stdout",
     "output_type": "stream",
     "text": [
      "WARNING:tensorflow:From /home/arne/miniconda2/envs/innvestigate/lib/python3.7/site-packages/tensorflow/python/framework/op_def_library.py:263: colocate_with (from tensorflow.python.framework.ops) is deprecated and will be removed in a future version.\n",
      "Instructions for updating:\n",
      "Colocations handled automatically by placer.\n"
     ]
    }
   ],
   "source": [
    "# To use this script please download the example images using the following script:\n",
    "# innvestigate/examples/images/wget_imagenet_2011_samples.sh\n",
    "#method_names=['input', 'pattern.net',]\n",
    "#method_names = ['input', 'gradient', 'pattern.net*gradient']\n",
    "method_names = ['input', 'gradient', 'deep_taylor.bounded', 'pattern.attribution', 'pattern.net', 'input_t_gradient']# 'input*gradient', 'pattern.net*gradient', ]\n",
    "#method_names = ['input', 'gradient', 'pattern.net',]# 'input_t_gradient']\n",
    "model, net, analyzers = create_vgg16_model_and_analyzer(methods_metadata=METHODS, analyzer_names=method_names)\n",
    "\n",
    "images, label_to_class_name = utils.get_imagenet_data(net[\"image_shape\"][0])\n",
    "\n",
    "if not len(images):\n",
    "    raise Exception(\"Please download the example images using: \"\n",
    "                    \"'innvestigate/examples/images/wget_imagenet_2011_samples.sh'\")\n"
   ]
  },
  {
   "cell_type": "code",
   "execution_count": 18,
   "metadata": {},
   "outputs": [],
   "source": [
    "# calculate main analysis\n",
    "analysis, text = analyze(data=images, analyzers=analyzers, net=net, model=model, label_to_class_name=label_to_class_name)"
   ]
  },
  {
   "cell_type": "code",
   "execution_count": 19,
   "metadata": {},
   "outputs": [],
   "source": [
    "# add composed analysis\n",
    "analysis_dict = {method_name: np.expand_dims(analysis[:,idx], axis=1) for idx, method_name in enumerate(method_names)}\n",
    "#gradient_projected = scale_max_batch(analysis_dict['gradient'], input_is_positive_only=True)\n",
    "analysis_dict['gradient*input'] = analysis_dict['gradient'] * analysis_dict['input']\n",
    "#gradient_t_input = analysis_dict['input']\n",
    "#patternnet_clip = np.clip(analysis_dict['pattern.net'], a_min=0, a_max=None)\n",
    "#analysis_dict['abs(pattern.net)'] = np.abs(analysis_dict['pattern.net'])\n",
    "analysis_dict['gradient*pattern.net'] = analysis_dict['gradient'] * analysis_dict['pattern.net']\n",
    "analysis_dict['abs(gradient)*abs(pattern.net)'] = np.abs(analysis_dict['gradient']) * np.abs(analysis_dict['pattern.net'])\n",
    "#method_names = method_names + ['abs(pattern.net)']\n",
    "#gradient_t_patternnet = analysis_dict['gradient'] * analysis_dict['pattern.net']"
   ]
  },
  {
   "cell_type": "code",
   "execution_count": null,
   "metadata": {},
   "outputs": [],
   "source": [
    "# show value distribution for all analysis\n",
    "fig, axs = plt.subplots(len(analysis_dict), 1, tight_layout=True, figsize=(10, 15)) #sharey=True, \n",
    "for i, method_name in enumerate(analysis_dict):\n",
    "    #print('{:15} [{:.5f}, {:.5f}]'.format(method_name, analysis[:, i].min(), analysis[:, i].max()))\n",
    "    data = analysis_dict[method_name].reshape((-1))\n",
    "    #print(data.shape)\n",
    "    axs[i].hist(data, bins='auto', color='#0504aa')#, alpha=0.7)   # slow\n",
    "    #axs[i].hist(data, bins=300, color='#0504aa')#, alpha=0.7)\n",
    "    \n",
    "    # center to x=0\n",
    "    axs[i].set_xlabel(method_name)\n",
    "    left, right = axs[i].get_xlim()\n",
    "    max_xlim = max(abs(left), abs(right))\n",
    "    axs[i].set_xlim(-max_xlim, max_xlim)\n",
    "    #print(left, right, '->', -max_xlim, max_xlim)\n",
    "    \n",
    "    #axs[i].yaxis.set_label_position(\"right\")\n"
   ]
  },
  {
   "cell_type": "code",
   "execution_count": null,
   "metadata": {},
   "outputs": [],
   "source": [
    "# visualize\n",
    "visualization_transformations = {\n",
    "        'default': lambda x: imgnetutils.bk_proj(np.abs(x)),\n",
    "        'input': None,\n",
    "        'gradient': imgnetutils.heatmap,\n",
    "        'deep_taylor.bounded': imgnetutils.heatmap,\n",
    "        'pattern.attribution': imgnetutils.heatmap,\n",
    "        'pattern.net': imgnetutils.bk_proj,\n",
    "        #'input_t_gradient': None,\n",
    "        #'gradient*input': None,\n",
    "        #'gradient*pattern.net': None,\n",
    "        #'abs(pattern.net)': imgnetutils.bk_proj\n",
    "}\n",
    "visualize(np.concatenate([analysis_dict[mn] for mn in analysis_dict], axis=1),\n",
    "          text, list(analysis_dict),\n",
    "          visualization_transformations=visualization_transformations,\n",
    "          #figsize=(10, 2)\n",
    "          scaling=3.0\n",
    "         )"
   ]
  },
  {
   "cell_type": "code",
   "execution_count": null,
   "metadata": {},
   "outputs": [],
   "source": []
  },
  {
   "cell_type": "code",
   "execution_count": null,
   "metadata": {},
   "outputs": [],
   "source": []
  }
 ],
 "metadata": {
  "kernelspec": {
   "display_name": "Python [conda env:innvestigate]",
   "language": "python",
   "name": "conda-env-innvestigate-py"
  },
  "language_info": {
   "codemirror_mode": {
    "name": "ipython",
    "version": 3
   },
   "file_extension": ".py",
   "mimetype": "text/x-python",
   "name": "python",
   "nbconvert_exporter": "python",
   "pygments_lexer": "ipython3",
   "version": "3.7.3"
  }
 },
 "nbformat": 4,
 "nbformat_minor": 1
}
